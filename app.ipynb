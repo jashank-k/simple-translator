{
 "cells": [
  {
   "cell_type": "markdown",
   "id": "4f7e27bc",
   "metadata": {},
   "source": [
    "# AI Language Translator\n",
    "Supports translations from English to Spanish, French and German\n",
    "\n",
    "Note: This app is for demonstration purposes only and is not intended for real research/translation\n"
   ]
  },
  {
   "cell_type": "markdown",
   "id": "b698fbdf",
   "metadata": {},
   "source": [
    "### Libraries reference (stored in requirements.txt)\n",
    "\n",
    "\n",
    "pip install langchain  \n",
    "pip install langchain_core  \n",
    "pip install transformers  \n",
    "pip install torch  \n",
    "pip install pipeline  \n",
    "pip install langchain_community  \n",
    "pip install accelerate  \n",
    "pip install python-dotenv  \n",
    "pip install huggingface_hub  \n",
    "pip install ipykernel    \n",
    "pip install hf_xet"
   ]
  },
  {
   "cell_type": "code",
   "execution_count": 1,
   "id": "bb3179ec",
   "metadata": {},
   "outputs": [
    {
     "name": "stdout",
     "output_type": "stream",
     "text": [
      "Token loaded successfully.\n"
     ]
    }
   ],
   "source": [
    "#Access to gated tokens in .env (restricted file) which will be used to authenticate model access\n",
    "from dotenv import load_dotenv\n",
    "import os\n",
    "\n",
    "load_dotenv() \n",
    "token = os.getenv('HUGGINGFACEHUB_API_TOKEN')\n",
    "os.environ['HUGGINGFACEHUB_API_TOKEN'] = token\n",
    "print(\"Token loaded successfully.\")"
   ]
  },
  {
   "cell_type": "code",
   "execution_count": 2,
   "id": "67319e57",
   "metadata": {},
   "outputs": [
    {
     "name": "stderr",
     "output_type": "stream",
     "text": [
      "c:\\Users\\JashankKshirsagar\\Desktop\\Projects\\translator_lm\\venv_t\\Lib\\site-packages\\tqdm\\auto.py:21: TqdmWarning: IProgress not found. Please update jupyter and ipywidgets. See https://ipywidgets.readthedocs.io/en/stable/user_install.html\n",
      "  from .autonotebook import tqdm as notebook_tqdm\n"
     ]
    }
   ],
   "source": [
    "#Loading the model and the tokenizer\n",
    "\n",
    "from transformers import AutoTokenizer, T5ForConditionalGeneration\n",
    "import torch\n",
    "\n",
    "model_name = \"google/flan-t5-base\"\n",
    "\n",
    "tokenizer = AutoTokenizer.from_pretrained(model_name)\n",
    "\n",
    "model = T5ForConditionalGeneration.from_pretrained(\n",
    "    model_name,\n",
    "    torch_dtype=torch.float16,\n",
    "    device_map=\"auto\"\n",
    ")\n"
   ]
  },
  {
   "cell_type": "code",
   "execution_count": 3,
   "id": "a0be8e0f",
   "metadata": {},
   "outputs": [],
   "source": [
    "#Defining the prompt template\n",
    "from langchain.prompts import PromptTemplate\n",
    "\n",
    "prompt = PromptTemplate.from_template(\n",
    "    \"\"\"Translate the following sentence from English to {target_language}: {text} \"\"\"\n",
    ")"
   ]
  },
  {
   "cell_type": "code",
   "execution_count": 4,
   "id": "f0d6202d",
   "metadata": {},
   "outputs": [
    {
     "name": "stderr",
     "output_type": "stream",
     "text": [
      "Device set to use cpu\n",
      "C:\\Users\\JashankKshirsagar\\AppData\\Local\\Temp\\ipykernel_5748\\1564944966.py:12: LangChainDeprecationWarning: The class `HuggingFacePipeline` was deprecated in LangChain 0.0.37 and will be removed in 1.0. An updated version of the class exists in the :class:`~langchain-huggingface package and should be used instead. To use it run `pip install -U :class:`~langchain-huggingface` and import as `from :class:`~langchain_huggingface import HuggingFacePipeline``.\n",
      "  llm = HuggingFacePipeline(pipeline=hf_pipeline)\n",
      "C:\\Users\\JashankKshirsagar\\AppData\\Local\\Temp\\ipykernel_5748\\1564944966.py:16: LangChainDeprecationWarning: The class `LLMChain` was deprecated in LangChain 0.1.17 and will be removed in 1.0. Use :meth:`~RunnableSequence, e.g., `prompt | llm`` instead.\n",
      "  translation_chain = LLMChain(llm=llm, prompt=prompt)\n"
     ]
    }
   ],
   "source": [
    "#Building the LLM chain - sequence of operation to process the input and generate the output\n",
    "\n",
    "from langchain.llms import HuggingFacePipeline\n",
    "from transformers import pipeline\n",
    "\n",
    "hf_pipeline = pipeline(\n",
    "    \"text2text-generation\",\n",
    "    model=model,\n",
    "    tokenizer=tokenizer\n",
    ")\n",
    "\n",
    "llm = HuggingFacePipeline(pipeline=hf_pipeline)\n",
    "\n",
    "from langchain.chains import LLMChain\n",
    "\n",
    "translation_chain = LLMChain(llm=llm, prompt=prompt)"
   ]
  },
  {
   "cell_type": "code",
   "execution_count": 6,
   "id": "22e9bbfd",
   "metadata": {},
   "outputs": [
    {
     "name": "stdout",
     "output_type": "stream",
     "text": [
      "Thanks for using the translator! Goodbye!\n"
     ]
    }
   ],
   "source": [
    "#Interactive Chat Loop\n",
    "\n",
    "while True:\n",
    "    text = input(\"Enter text (or 'quit' to exit): \")\n",
    "    if text.lower() in (\"quit\", \"exit\"):\n",
    "        print(\"Thanks for using the translator! Goodbye!\")\n",
    "        break\n",
    "    lang = input(\"Target language (eg. French, Spanish): \")\n",
    "    result = translation_chain.run(text=text, target_language=lang)\n",
    "    print(f\"Translation to {lang}: {result}\")\n",
    "    "
   ]
  }
 ],
 "metadata": {
  "kernelspec": {
   "display_name": "venv_t",
   "language": "python",
   "name": "python3"
  },
  "language_info": {
   "codemirror_mode": {
    "name": "ipython",
    "version": 3
   },
   "file_extension": ".py",
   "mimetype": "text/x-python",
   "name": "python",
   "nbconvert_exporter": "python",
   "pygments_lexer": "ipython3",
   "version": "3.13.5"
  }
 },
 "nbformat": 4,
 "nbformat_minor": 5
}
